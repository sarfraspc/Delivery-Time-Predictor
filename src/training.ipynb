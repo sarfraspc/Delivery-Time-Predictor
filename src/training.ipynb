{
 "cells": [
  {
   "cell_type": "code",
   "execution_count": 4,
   "id": "89c6d387",
   "metadata": {},
   "outputs": [],
   "source": [
    "import pandas as pd \n",
    "import joblib \n",
    "\n",
    "df=joblib.load('../data/cleaned.joblib')"
   ]
  },
  {
   "cell_type": "code",
   "execution_count": 5,
   "id": "3dc3a452",
   "metadata": {},
   "outputs": [],
   "source": [
    "from sklearn.model_selection import train_test_split\n",
    "\n",
    "X=df.drop('Time_taken(min)',axis=1)\n",
    "y=df['Time_taken(min)']\n",
    "\n",
    "X_train,X_test,y_train,y_test=train_test_split(X,y,test_size=0.2,random_state=44)"
   ]
  },
  {
   "cell_type": "code",
   "execution_count": 6,
   "id": "90e7fbad",
   "metadata": {},
   "outputs": [
    {
     "name": "stdout",
     "output_type": "stream",
     "text": [
      "{'max_depth': 10, 'min_samples_split': 5, 'n_estimators': 200}\n",
      "{'alpha': 10, 'max_iter': 100}\n"
     ]
    }
   ],
   "source": [
    "from sklearn.ensemble import RandomForestRegressor\n",
    "from sklearn.linear_model import Ridge\n",
    "from sklearn.model_selection import GridSearchCV\n",
    "\n",
    "ran_param = {\n",
    "    'n_estimators': [100, 200],       \n",
    "    'max_depth': [10, 20],           \n",
    "    'min_samples_split': [2, 5]      \n",
    "}\n",
    "ran_grid=GridSearchCV(RandomForestRegressor(random_state=44),param_grid=ran_param,cv=3)\n",
    "ran_grid.fit(X_train,y_train)\n",
    "print(ran_grid.best_params_)\n",
    "\n",
    "rid_param={\n",
    "    'alpha':[0.1,1.0,10],\n",
    "    'max_iter':[100,1000]\n",
    "}\n",
    "rid_grid=GridSearchCV(Ridge(),param_grid=rid_param,cv=3)\n",
    "rid_grid.fit(X_train,y_train)\n",
    "print(rid_grid.best_params_)"
   ]
  },
  {
   "cell_type": "code",
   "execution_count": null,
   "id": "4b616f6f",
   "metadata": {},
   "outputs": [],
   "source": [
    "from sklearn.metrics import mean_absolute_error, mean_squared_error, r2_score\n",
    "import numpy as np\n",
    "\n"
   ]
  }
 ],
 "metadata": {
  "kernelspec": {
   "display_name": "jupty",
   "language": "python",
   "name": "python3"
  },
  "language_info": {
   "codemirror_mode": {
    "name": "ipython",
    "version": 3
   },
   "file_extension": ".py",
   "mimetype": "text/x-python",
   "name": "python",
   "nbconvert_exporter": "python",
   "pygments_lexer": "ipython3",
   "version": "3.13.2"
  }
 },
 "nbformat": 4,
 "nbformat_minor": 5
}
