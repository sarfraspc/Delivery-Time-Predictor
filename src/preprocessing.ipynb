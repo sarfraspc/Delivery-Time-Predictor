{
 "cells": [
  {
   "cell_type": "code",
   "execution_count": 88,
   "id": "04cbf3e7",
   "metadata": {},
   "outputs": [],
   "source": [
    "import pandas as pd\n",
    "\n",
    "df=pd.read_excel('../data/Food Delivery Time Prediction Case Study.xlsx')\n",
    "df.drop(df[['ID','Delivery_person_ID','Type_of_order']],axis=1,inplace=True)"
   ]
  },
  {
   "cell_type": "code",
   "execution_count": 89,
   "id": "5e31d271",
   "metadata": {},
   "outputs": [],
   "source": [
    "from geopy.distance import geodesic\n",
    "\n",
    "def compute_distance(row):\n",
    "    rest=(row['Restaurant_latitude'],row['Restaurant_longitude'])\n",
    "    delv=(row['Delivery_location_latitude'],row['Delivery_location_longitude'])\n",
    "    return geodesic(rest,delv).km\n",
    "df['distance']=df.apply(compute_distance,axis=1)"
   ]
  },
  {
   "cell_type": "code",
   "execution_count": 90,
   "id": "fed8a5bc-6720-43b0-9a21-2429fd6a07c3",
   "metadata": {},
   "outputs": [],
   "source": [
    "df.drop(df[['Restaurant_longitude','Restaurant_latitude','Delivery_location_latitude','Delivery_location_longitude']],axis=1,inplace=True)"
   ]
  },
  {
   "cell_type": "code",
   "execution_count": 91,
   "id": "6d9eacbc-ae24-494b-8e41-a25f00b22127",
   "metadata": {},
   "outputs": [],
   "source": [
    "df=df[df['distance']<100]"
   ]
  },
  {
   "cell_type": "code",
   "execution_count": 92,
   "id": "1f7c61cb",
   "metadata": {},
   "outputs": [
    {
     "data": {
      "text/html": [
       "<div>\n",
       "<style scoped>\n",
       "    .dataframe tbody tr th:only-of-type {\n",
       "        vertical-align: middle;\n",
       "    }\n",
       "\n",
       "    .dataframe tbody tr th {\n",
       "        vertical-align: top;\n",
       "    }\n",
       "\n",
       "    .dataframe thead th {\n",
       "        text-align: right;\n",
       "    }\n",
       "</style>\n",
       "<table border=\"1\" class=\"dataframe\">\n",
       "  <thead>\n",
       "    <tr style=\"text-align: right;\">\n",
       "      <th></th>\n",
       "      <th>Delivery_person_Age</th>\n",
       "      <th>Delivery_person_Ratings</th>\n",
       "      <th>Type_of_vehicle</th>\n",
       "      <th>Time_taken(min)</th>\n",
       "      <th>distance</th>\n",
       "    </tr>\n",
       "  </thead>\n",
       "  <tbody>\n",
       "    <tr>\n",
       "      <th>0</th>\n",
       "      <td>37</td>\n",
       "      <td>4.9</td>\n",
       "      <td>motorcycle</td>\n",
       "      <td>24</td>\n",
       "      <td>3.020737</td>\n",
       "    </tr>\n",
       "    <tr>\n",
       "      <th>1</th>\n",
       "      <td>34</td>\n",
       "      <td>4.5</td>\n",
       "      <td>scooter</td>\n",
       "      <td>33</td>\n",
       "      <td>20.143737</td>\n",
       "    </tr>\n",
       "    <tr>\n",
       "      <th>2</th>\n",
       "      <td>23</td>\n",
       "      <td>4.4</td>\n",
       "      <td>motorcycle</td>\n",
       "      <td>26</td>\n",
       "      <td>1.549693</td>\n",
       "    </tr>\n",
       "    <tr>\n",
       "      <th>3</th>\n",
       "      <td>38</td>\n",
       "      <td>4.7</td>\n",
       "      <td>motorcycle</td>\n",
       "      <td>21</td>\n",
       "      <td>7.774497</td>\n",
       "    </tr>\n",
       "    <tr>\n",
       "      <th>4</th>\n",
       "      <td>32</td>\n",
       "      <td>4.6</td>\n",
       "      <td>scooter</td>\n",
       "      <td>30</td>\n",
       "      <td>6.197898</td>\n",
       "    </tr>\n",
       "  </tbody>\n",
       "</table>\n",
       "</div>"
      ],
      "text/plain": [
       "   Delivery_person_Age  Delivery_person_Ratings  ... Time_taken(min)   distance\n",
       "0                   37                      4.9  ...              24   3.020737\n",
       "1                   34                      4.5  ...              33  20.143737\n",
       "2                   23                      4.4  ...              26   1.549693\n",
       "3                   38                      4.7  ...              21   7.774497\n",
       "4                   32                      4.6  ...              30   6.197898\n",
       "\n",
       "[5 rows x 5 columns]"
      ]
     },
     "execution_count": 92,
     "metadata": {},
     "output_type": "execute_result"
    }
   ],
   "source": [
    "df.head()"
   ]
  },
  {
   "cell_type": "code",
   "execution_count": 93,
   "id": "801ca100",
   "metadata": {},
   "outputs": [],
   "source": [
    "df['Delivery_person_Ratings']=df['Delivery_person_Ratings'].clip(lower=2.5,upper=5)"
   ]
  },
  {
   "cell_type": "code",
   "execution_count": 94,
   "id": "986f8fbd",
   "metadata": {},
   "outputs": [
    {
     "data": {
      "text/html": [
       "<div>\n",
       "<style scoped>\n",
       "    .dataframe tbody tr th:only-of-type {\n",
       "        vertical-align: middle;\n",
       "    }\n",
       "\n",
       "    .dataframe tbody tr th {\n",
       "        vertical-align: top;\n",
       "    }\n",
       "\n",
       "    .dataframe thead th {\n",
       "        text-align: right;\n",
       "    }\n",
       "</style>\n",
       "<table border=\"1\" class=\"dataframe\">\n",
       "  <thead>\n",
       "    <tr style=\"text-align: right;\">\n",
       "      <th></th>\n",
       "      <th>Type_of_vehicle</th>\n",
       "      <th>speed</th>\n",
       "    </tr>\n",
       "  </thead>\n",
       "  <tbody>\n",
       "    <tr>\n",
       "      <th>0</th>\n",
       "      <td>motorcycle</td>\n",
       "      <td>1</td>\n",
       "    </tr>\n",
       "    <tr>\n",
       "      <th>1</th>\n",
       "      <td>scooter</td>\n",
       "      <td>2</td>\n",
       "    </tr>\n",
       "    <tr>\n",
       "      <th>2</th>\n",
       "      <td>motorcycle</td>\n",
       "      <td>1</td>\n",
       "    </tr>\n",
       "    <tr>\n",
       "      <th>3</th>\n",
       "      <td>motorcycle</td>\n",
       "      <td>1</td>\n",
       "    </tr>\n",
       "    <tr>\n",
       "      <th>4</th>\n",
       "      <td>scooter</td>\n",
       "      <td>2</td>\n",
       "    </tr>\n",
       "    <tr>\n",
       "      <th>...</th>\n",
       "      <td>...</td>\n",
       "      <td>...</td>\n",
       "    </tr>\n",
       "    <tr>\n",
       "      <th>45588</th>\n",
       "      <td>motorcycle</td>\n",
       "      <td>1</td>\n",
       "    </tr>\n",
       "    <tr>\n",
       "      <th>45589</th>\n",
       "      <td>motorcycle</td>\n",
       "      <td>1</td>\n",
       "    </tr>\n",
       "    <tr>\n",
       "      <th>45590</th>\n",
       "      <td>scooter</td>\n",
       "      <td>2</td>\n",
       "    </tr>\n",
       "    <tr>\n",
       "      <th>45591</th>\n",
       "      <td>motorcycle</td>\n",
       "      <td>1</td>\n",
       "    </tr>\n",
       "    <tr>\n",
       "      <th>45592</th>\n",
       "      <td>scooter</td>\n",
       "      <td>2</td>\n",
       "    </tr>\n",
       "  </tbody>\n",
       "</table>\n",
       "<p>45162 rows × 2 columns</p>\n",
       "</div>"
      ],
      "text/plain": [
       "      Type_of_vehicle  speed\n",
       "0         motorcycle       1\n",
       "1            scooter       2\n",
       "2         motorcycle       1\n",
       "3         motorcycle       1\n",
       "4            scooter       2\n",
       "...               ...    ...\n",
       "45588     motorcycle       1\n",
       "45589     motorcycle       1\n",
       "45590        scooter       2\n",
       "45591     motorcycle       1\n",
       "45592        scooter       2\n",
       "\n",
       "[45162 rows x 2 columns]"
      ]
     },
     "execution_count": 94,
     "metadata": {},
     "output_type": "execute_result"
    }
   ],
   "source": [
    "speed={\n",
    "    'motorcycle ':1,\n",
    "    'scooter ':2,\n",
    "    'electric_scooter ':3,\n",
    "    'bicycle ':4\n",
    "}\n",
    "df['speed']=df['Type_of_vehicle'].map(speed)\n",
    "df[['Type_of_vehicle','speed']]"
   ]
  },
  {
   "cell_type": "code",
   "execution_count": 95,
   "id": "abf70476",
   "metadata": {},
   "outputs": [],
   "source": [
    "df['capabilty']=df['Delivery_person_Ratings']*df['speed']\n",
    "max_capability=df['Delivery_person_Ratings'].max()*df['speed'].max()\n",
    "df['traffic_fact']=max_capability-df['capabilty']"
   ]
  },
  {
   "cell_type": "code",
   "execution_count": 96,
   "id": "897f3a8b",
   "metadata": {},
   "outputs": [],
   "source": [
    "from sklearn.preprocessing import LabelEncoder\n",
    "\n",
    "la=LabelEncoder()\n",
    "df['Type_of_vehicle']=la.fit_transform(df['Type_of_vehicle'])"
   ]
  },
  {
   "cell_type": "code",
   "execution_count": 97,
   "id": "cd54304f",
   "metadata": {},
   "outputs": [],
   "source": [
    "df.to_csv('../data/cleaned.csv')"
   ]
  }
 ],
 "metadata": {
  "kernelspec": {
   "display_name": "jupty",
   "language": "python",
   "name": "python3"
  },
  "language_info": {
   "codemirror_mode": {
    "name": "ipython",
    "version": 3
   },
   "file_extension": ".py",
   "mimetype": "text/x-python",
   "name": "python",
   "nbconvert_exporter": "python",
   "pygments_lexer": "ipython3",
   "version": "3.13.2"
  }
 },
 "nbformat": 4,
 "nbformat_minor": 5
}
