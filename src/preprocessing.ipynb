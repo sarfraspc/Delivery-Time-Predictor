{
 "cells": [
  {
   "cell_type": "code",
   "execution_count": 12,
   "id": "04cbf3e7",
   "metadata": {},
   "outputs": [],
   "source": [
    "import pandas as pd\n",
    "\n",
    "df=pd.read_excel('../data/Food Delivery Time Prediction Case Study.xlsx')\n",
    "df.drop(df[['ID','Delivery_person_ID','Type_of_order','Type_of_vehicle']],axis=1,inplace=True)"
   ]
  },
  {
   "cell_type": "code",
   "execution_count": 13,
   "id": "5e31d271",
   "metadata": {},
   "outputs": [],
   "source": [
    "from geopy.distance import geodesic\n",
    "\n",
    "def compute_distance(row):\n",
    "    rest=(row['Restaurant_latitude'],row['Restaurant_longitude'])\n",
    "    delv=(row['Delivery_location_latitude'],row['Delivery_location_longitude'])\n",
    "    return geodesic(rest,delv).km\n",
    "df['distance']=df.apply(compute_distance,axis=1)"
   ]
  },
  {
   "cell_type": "code",
   "execution_count": 14,
   "id": "fed8a5bc-6720-43b0-9a21-2429fd6a07c3",
   "metadata": {},
   "outputs": [],
   "source": [
    "df.drop(df[['Restaurant_longitude','Restaurant_latitude','Delivery_location_latitude','Delivery_location_longitude']],axis=1,inplace=True)"
   ]
  },
  {
   "cell_type": "code",
   "execution_count": 15,
   "id": "6d9eacbc-ae24-494b-8e41-a25f00b22127",
   "metadata": {},
   "outputs": [],
   "source": [
    "df=df[df['distance']<100]"
   ]
  },
  {
   "cell_type": "code",
   "execution_count": 16,
   "id": "0669b86f",
   "metadata": {},
   "outputs": [],
   "source": [
    "df['speed']=df['distance']/df['Time_taken(min)']"
   ]
  },
  {
   "cell_type": "code",
   "execution_count": 23,
   "id": "1f7c61cb",
   "metadata": {},
   "outputs": [
    {
     "data": {
      "text/html": [
       "<div>\n",
       "<style scoped>\n",
       "    .dataframe tbody tr th:only-of-type {\n",
       "        vertical-align: middle;\n",
       "    }\n",
       "\n",
       "    .dataframe tbody tr th {\n",
       "        vertical-align: top;\n",
       "    }\n",
       "\n",
       "    .dataframe thead th {\n",
       "        text-align: right;\n",
       "    }\n",
       "</style>\n",
       "<table border=\"1\" class=\"dataframe\">\n",
       "  <thead>\n",
       "    <tr style=\"text-align: right;\">\n",
       "      <th></th>\n",
       "      <th>Delivery_person_Age</th>\n",
       "      <th>Delivery_person_Ratings</th>\n",
       "      <th>Time_taken(min)</th>\n",
       "      <th>distance</th>\n",
       "      <th>speed</th>\n",
       "    </tr>\n",
       "  </thead>\n",
       "  <tbody>\n",
       "    <tr>\n",
       "      <th>0</th>\n",
       "      <td>1.310461</td>\n",
       "      <td>0.854368</td>\n",
       "      <td>24</td>\n",
       "      <td>-1.196305</td>\n",
       "      <td>0.125864</td>\n",
       "    </tr>\n",
       "    <tr>\n",
       "      <th>1</th>\n",
       "      <td>0.783465</td>\n",
       "      <td>-0.425272</td>\n",
       "      <td>33</td>\n",
       "      <td>1.861891</td>\n",
       "      <td>0.610416</td>\n",
       "    </tr>\n",
       "    <tr>\n",
       "      <th>2</th>\n",
       "      <td>-1.148853</td>\n",
       "      <td>-0.745182</td>\n",
       "      <td>26</td>\n",
       "      <td>-1.459036</td>\n",
       "      <td>0.059604</td>\n",
       "    </tr>\n",
       "    <tr>\n",
       "      <th>3</th>\n",
       "      <td>1.486127</td>\n",
       "      <td>0.214548</td>\n",
       "      <td>21</td>\n",
       "      <td>-0.347276</td>\n",
       "      <td>0.370214</td>\n",
       "    </tr>\n",
       "    <tr>\n",
       "      <th>4</th>\n",
       "      <td>0.432135</td>\n",
       "      <td>-0.105362</td>\n",
       "      <td>30</td>\n",
       "      <td>-0.628859</td>\n",
       "      <td>0.206597</td>\n",
       "    </tr>\n",
       "  </tbody>\n",
       "</table>\n",
       "</div>"
      ],
      "text/plain": [
       "   Delivery_person_Age  Delivery_person_Ratings  Time_taken(min)  distance  \\\n",
       "0             1.310461                 0.854368               24 -1.196305   \n",
       "1             0.783465                -0.425272               33  1.861891   \n",
       "2            -1.148853                -0.745182               26 -1.459036   \n",
       "3             1.486127                 0.214548               21 -0.347276   \n",
       "4             0.432135                -0.105362               30 -0.628859   \n",
       "\n",
       "      speed  \n",
       "0  0.125864  \n",
       "1  0.610416  \n",
       "2  0.059604  \n",
       "3  0.370214  \n",
       "4  0.206597  "
      ]
     },
     "execution_count": 23,
     "metadata": {},
     "output_type": "execute_result"
    }
   ],
   "source": [
    "df.head()"
   ]
  },
  {
   "cell_type": "code",
   "execution_count": 24,
   "id": "801ca100",
   "metadata": {},
   "outputs": [],
   "source": [
    "df['Delivery_person_Ratings']=df['Delivery_person_Ratings'].clip(lower=2.5,upper=5)"
   ]
  },
  {
   "cell_type": "code",
   "execution_count": 27,
   "id": "11b9d9f5",
   "metadata": {},
   "outputs": [
    {
     "data": {
      "text/html": [
       "<div>\n",
       "<style scoped>\n",
       "    .dataframe tbody tr th:only-of-type {\n",
       "        vertical-align: middle;\n",
       "    }\n",
       "\n",
       "    .dataframe tbody tr th {\n",
       "        vertical-align: top;\n",
       "    }\n",
       "\n",
       "    .dataframe thead th {\n",
       "        text-align: right;\n",
       "    }\n",
       "</style>\n",
       "<table border=\"1\" class=\"dataframe\">\n",
       "  <thead>\n",
       "    <tr style=\"text-align: right;\">\n",
       "      <th></th>\n",
       "      <th>Delivery_person_Age</th>\n",
       "      <th>Delivery_person_Ratings</th>\n",
       "      <th>distance</th>\n",
       "      <th>speed</th>\n",
       "    </tr>\n",
       "  </thead>\n",
       "  <tbody>\n",
       "    <tr>\n",
       "      <th>count</th>\n",
       "      <td>4.516200e+04</td>\n",
       "      <td>45162.0</td>\n",
       "      <td>4.516200e+04</td>\n",
       "      <td>4.516200e+04</td>\n",
       "    </tr>\n",
       "    <tr>\n",
       "      <th>mean</th>\n",
       "      <td>-1.227190e-17</td>\n",
       "      <td>0.0</td>\n",
       "      <td>8.495927e-18</td>\n",
       "      <td>-5.695418e-17</td>\n",
       "    </tr>\n",
       "    <tr>\n",
       "      <th>std</th>\n",
       "      <td>1.000011e+00</td>\n",
       "      <td>0.0</td>\n",
       "      <td>1.000011e+00</td>\n",
       "      <td>1.000011e+00</td>\n",
       "    </tr>\n",
       "    <tr>\n",
       "      <th>min</th>\n",
       "      <td>-2.554176e+00</td>\n",
       "      <td>0.0</td>\n",
       "      <td>-1.474370e+00</td>\n",
       "      <td>-1.400382e+00</td>\n",
       "    </tr>\n",
       "    <tr>\n",
       "      <th>25%</th>\n",
       "      <td>-7.975226e-01</td>\n",
       "      <td>0.0</td>\n",
       "      <td>-9.045829e-01</td>\n",
       "      <td>-7.160667e-01</td>\n",
       "    </tr>\n",
       "    <tr>\n",
       "      <th>50%</th>\n",
       "      <td>-9.486130e-02</td>\n",
       "      <td>0.0</td>\n",
       "      <td>-9.198187e-02</td>\n",
       "      <td>-2.091501e-01</td>\n",
       "    </tr>\n",
       "    <tr>\n",
       "      <th>75%</th>\n",
       "      <td>7.834653e-01</td>\n",
       "      <td>0.0</td>\n",
       "      <td>7.039196e-01</td>\n",
       "      <td>4.619083e-01</td>\n",
       "    </tr>\n",
       "    <tr>\n",
       "      <th>max</th>\n",
       "      <td>3.594110e+00</td>\n",
       "      <td>0.0</td>\n",
       "      <td>2.004624e+00</td>\n",
       "      <td>6.407756e+00</td>\n",
       "    </tr>\n",
       "  </tbody>\n",
       "</table>\n",
       "</div>"
      ],
      "text/plain": [
       "       Delivery_person_Age  Delivery_person_Ratings      distance  \\\n",
       "count         4.516200e+04                  45162.0  4.516200e+04   \n",
       "mean         -1.227190e-17                      0.0  8.495927e-18   \n",
       "std           1.000011e+00                      0.0  1.000011e+00   \n",
       "min          -2.554176e+00                      0.0 -1.474370e+00   \n",
       "25%          -7.975226e-01                      0.0 -9.045829e-01   \n",
       "50%          -9.486130e-02                      0.0 -9.198187e-02   \n",
       "75%           7.834653e-01                      0.0  7.039196e-01   \n",
       "max           3.594110e+00                      0.0  2.004624e+00   \n",
       "\n",
       "              speed  \n",
       "count  4.516200e+04  \n",
       "mean  -5.695418e-17  \n",
       "std    1.000011e+00  \n",
       "min   -1.400382e+00  \n",
       "25%   -7.160667e-01  \n",
       "50%   -2.091501e-01  \n",
       "75%    4.619083e-01  \n",
       "max    6.407756e+00  "
      ]
     },
     "execution_count": 27,
     "metadata": {},
     "output_type": "execute_result"
    }
   ],
   "source": [
    "from sklearn.preprocessing import StandardScaler\n",
    "\n",
    "colms=['Delivery_person_Age','Delivery_person_Ratings','distance','speed']\n",
    "\n",
    "scale=StandardScaler()\n",
    "\n",
    "df[colms]=scale.fit_transform(df[colms])\n",
    "df[colms].describe()"
   ]
  },
  {
   "cell_type": "code",
   "execution_count": 29,
   "id": "cd54304f",
   "metadata": {},
   "outputs": [],
   "source": [
    "df.to_csv('../data/cleaned.csv')"
   ]
  }
 ],
 "metadata": {
  "kernelspec": {
   "display_name": "jupty",
   "language": "python",
   "name": "python3"
  },
  "language_info": {
   "codemirror_mode": {
    "name": "ipython",
    "version": 3
   },
   "file_extension": ".py",
   "mimetype": "text/x-python",
   "name": "python",
   "nbconvert_exporter": "python",
   "pygments_lexer": "ipython3",
   "version": "3.13.2"
  }
 },
 "nbformat": 4,
 "nbformat_minor": 5
}
