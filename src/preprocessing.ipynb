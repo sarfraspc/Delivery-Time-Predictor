{
 "cells": [
  {
   "cell_type": "code",
   "execution_count": 33,
   "id": "04cbf3e7",
   "metadata": {},
   "outputs": [],
   "source": [
    "import pandas as pd\n",
    "\n",
    "df=pd.read_excel('../data/Food Delivery Time Prediction Case Study.xlsx')\n",
    "df.drop(df[['ID','Delivery_person_ID']],axis=1,inplace=True)"
   ]
  },
  {
   "cell_type": "code",
   "execution_count": 34,
   "id": "5e31d271",
   "metadata": {},
   "outputs": [],
   "source": [
    "from geopy.distance import geodesic\n",
    "\n",
    "def compute_distance(row):\n",
    "    rest=(row['Restaurant_latitude'],row['Restaurant_longitude'])\n",
    "    delv=(row['Delivery_location_latitude'],row['Delivery_location_longitude'])\n",
    "    return geodesic(rest,delv).km\n",
    "df['distance']=df.apply(compute_distance,axis=1)"
   ]
  },
  {
   "cell_type": "code",
   "execution_count": 35,
   "id": "fed8a5bc-6720-43b0-9a21-2429fd6a07c3",
   "metadata": {},
   "outputs": [],
   "source": [
    "df.drop(df[['Restaurant_longitude','Restaurant_latitude','Delivery_location_latitude','Delivery_location_longitude']],axis=1,inplace=True)"
   ]
  },
  {
   "cell_type": "code",
   "execution_count": 36,
   "id": "6d9eacbc-ae24-494b-8e41-a25f00b22127",
   "metadata": {},
   "outputs": [],
   "source": [
    "df=df[df['distance']<100]"
   ]
  },
  {
   "cell_type": "code",
   "execution_count": 37,
   "id": "f1d47e31",
   "metadata": {},
   "outputs": [],
   "source": [
    "from sklearn.preprocessing import LabelEncoder\n",
    "\n",
    "la_order=LabelEncoder()\n",
    "la_vehi=LabelEncoder()\n",
    "\n",
    "df['Type_of_vehicle']=la_vehi.fit_transform(df['Type_of_vehicle'])\n",
    "df['Type_of_order']=la_order.fit_transform(df['Type_of_order'])"
   ]
  },
  {
   "cell_type": "code",
   "execution_count": 38,
   "id": "1f7c61cb",
   "metadata": {},
   "outputs": [
    {
     "data": {
      "text/html": [
       "<div>\n",
       "<style scoped>\n",
       "    .dataframe tbody tr th:only-of-type {\n",
       "        vertical-align: middle;\n",
       "    }\n",
       "\n",
       "    .dataframe tbody tr th {\n",
       "        vertical-align: top;\n",
       "    }\n",
       "\n",
       "    .dataframe thead th {\n",
       "        text-align: right;\n",
       "    }\n",
       "</style>\n",
       "<table border=\"1\" class=\"dataframe\">\n",
       "  <thead>\n",
       "    <tr style=\"text-align: right;\">\n",
       "      <th></th>\n",
       "      <th>Delivery_person_Age</th>\n",
       "      <th>Delivery_person_Ratings</th>\n",
       "      <th>Type_of_order</th>\n",
       "      <th>Type_of_vehicle</th>\n",
       "      <th>Time_taken(min)</th>\n",
       "      <th>distance</th>\n",
       "    </tr>\n",
       "  </thead>\n",
       "  <tbody>\n",
       "    <tr>\n",
       "      <th>0</th>\n",
       "      <td>37</td>\n",
       "      <td>4.9</td>\n",
       "      <td>3</td>\n",
       "      <td>2</td>\n",
       "      <td>24</td>\n",
       "      <td>3.020737</td>\n",
       "    </tr>\n",
       "    <tr>\n",
       "      <th>1</th>\n",
       "      <td>34</td>\n",
       "      <td>4.5</td>\n",
       "      <td>3</td>\n",
       "      <td>3</td>\n",
       "      <td>33</td>\n",
       "      <td>20.143737</td>\n",
       "    </tr>\n",
       "    <tr>\n",
       "      <th>2</th>\n",
       "      <td>23</td>\n",
       "      <td>4.4</td>\n",
       "      <td>1</td>\n",
       "      <td>2</td>\n",
       "      <td>26</td>\n",
       "      <td>1.549693</td>\n",
       "    </tr>\n",
       "    <tr>\n",
       "      <th>3</th>\n",
       "      <td>38</td>\n",
       "      <td>4.7</td>\n",
       "      <td>0</td>\n",
       "      <td>2</td>\n",
       "      <td>21</td>\n",
       "      <td>7.774497</td>\n",
       "    </tr>\n",
       "    <tr>\n",
       "      <th>4</th>\n",
       "      <td>32</td>\n",
       "      <td>4.6</td>\n",
       "      <td>3</td>\n",
       "      <td>3</td>\n",
       "      <td>30</td>\n",
       "      <td>6.197898</td>\n",
       "    </tr>\n",
       "  </tbody>\n",
       "</table>\n",
       "</div>"
      ],
      "text/plain": [
       "   Delivery_person_Age  Delivery_person_Ratings  Type_of_order  \\\n",
       "0                   37                      4.9              3   \n",
       "1                   34                      4.5              3   \n",
       "2                   23                      4.4              1   \n",
       "3                   38                      4.7              0   \n",
       "4                   32                      4.6              3   \n",
       "\n",
       "   Type_of_vehicle  Time_taken(min)   distance  \n",
       "0                2               24   3.020737  \n",
       "1                3               33  20.143737  \n",
       "2                2               26   1.549693  \n",
       "3                2               21   7.774497  \n",
       "4                3               30   6.197898  "
      ]
     },
     "execution_count": 38,
     "metadata": {},
     "output_type": "execute_result"
    }
   ],
   "source": [
    "df.head()"
   ]
  },
  {
   "cell_type": "code",
   "execution_count": 43,
   "id": "801ca100",
   "metadata": {},
   "outputs": [],
   "source": [
    "df['Delivery_person_Ratings']=df['Delivery_person_Ratings'].clip(lower=2.5,upper=5)"
   ]
  },
  {
   "cell_type": "code",
   "execution_count": 45,
   "id": "11b9d9f5",
   "metadata": {},
   "outputs": [
    {
     "data": {
      "text/html": [
       "<div>\n",
       "<style scoped>\n",
       "    .dataframe tbody tr th:only-of-type {\n",
       "        vertical-align: middle;\n",
       "    }\n",
       "\n",
       "    .dataframe tbody tr th {\n",
       "        vertical-align: top;\n",
       "    }\n",
       "\n",
       "    .dataframe thead th {\n",
       "        text-align: right;\n",
       "    }\n",
       "</style>\n",
       "<table border=\"1\" class=\"dataframe\">\n",
       "  <thead>\n",
       "    <tr style=\"text-align: right;\">\n",
       "      <th></th>\n",
       "      <th>Delivery_person_Age</th>\n",
       "      <th>Delivery_person_Ratings</th>\n",
       "      <th>distance</th>\n",
       "    </tr>\n",
       "  </thead>\n",
       "  <tbody>\n",
       "    <tr>\n",
       "      <th>count</th>\n",
       "      <td>4.516200e+04</td>\n",
       "      <td>4.516200e+04</td>\n",
       "      <td>4.516200e+04</td>\n",
       "    </tr>\n",
       "    <tr>\n",
       "      <th>mean</th>\n",
       "      <td>-1.132790e-17</td>\n",
       "      <td>2.013849e-17</td>\n",
       "      <td>7.079940e-18</td>\n",
       "    </tr>\n",
       "    <tr>\n",
       "      <th>std</th>\n",
       "      <td>1.000011e+00</td>\n",
       "      <td>1.000011e+00</td>\n",
       "      <td>1.000011e+00</td>\n",
       "    </tr>\n",
       "    <tr>\n",
       "      <th>min</th>\n",
       "      <td>-2.554176e+00</td>\n",
       "      <td>-2.620857e-02</td>\n",
       "      <td>-1.474370e+00</td>\n",
       "    </tr>\n",
       "    <tr>\n",
       "      <th>25%</th>\n",
       "      <td>-7.975226e-01</td>\n",
       "      <td>-2.620857e-02</td>\n",
       "      <td>-9.045829e-01</td>\n",
       "    </tr>\n",
       "    <tr>\n",
       "      <th>50%</th>\n",
       "      <td>-9.486130e-02</td>\n",
       "      <td>-2.620857e-02</td>\n",
       "      <td>-9.198187e-02</td>\n",
       "    </tr>\n",
       "    <tr>\n",
       "      <th>75%</th>\n",
       "      <td>7.834653e-01</td>\n",
       "      <td>-2.620857e-02</td>\n",
       "      <td>7.039196e-01</td>\n",
       "    </tr>\n",
       "    <tr>\n",
       "      <th>max</th>\n",
       "      <td>3.594110e+00</td>\n",
       "      <td>3.815545e+01</td>\n",
       "      <td>2.004624e+00</td>\n",
       "    </tr>\n",
       "  </tbody>\n",
       "</table>\n",
       "</div>"
      ],
      "text/plain": [
       "       Delivery_person_Age  Delivery_person_Ratings      distance\n",
       "count         4.516200e+04             4.516200e+04  4.516200e+04\n",
       "mean         -1.132790e-17             2.013849e-17  7.079940e-18\n",
       "std           1.000011e+00             1.000011e+00  1.000011e+00\n",
       "min          -2.554176e+00            -2.620857e-02 -1.474370e+00\n",
       "25%          -7.975226e-01            -2.620857e-02 -9.045829e-01\n",
       "50%          -9.486130e-02            -2.620857e-02 -9.198187e-02\n",
       "75%           7.834653e-01            -2.620857e-02  7.039196e-01\n",
       "max           3.594110e+00             3.815545e+01  2.004624e+00"
      ]
     },
     "execution_count": 45,
     "metadata": {},
     "output_type": "execute_result"
    }
   ],
   "source": [
    "from sklearn.preprocessing import StandardScaler\n",
    "\n",
    "colms=['Delivery_person_Age','Delivery_person_Ratings','distance']\n",
    "\n",
    "scale=StandardScaler()\n",
    "\n",
    "df[colms]=scale.fit_transform(df[colms])\n",
    "df[colms].describe()"
   ]
  },
  {
   "cell_type": "code",
   "execution_count": 49,
   "id": "cd54304f",
   "metadata": {},
   "outputs": [
    {
     "data": {
      "text/plain": [
       "['../data/cleaned.joblib']"
      ]
     },
     "execution_count": 49,
     "metadata": {},
     "output_type": "execute_result"
    }
   ],
   "source": [
    "import joblib \n",
    "\n",
    "joblib.dump(df,'../data/cleaned.joblib')"
   ]
  }
 ],
 "metadata": {
  "kernelspec": {
   "display_name": "Python 3 (ipykernel)",
   "language": "python",
   "name": "python3"
  },
  "language_info": {
   "codemirror_mode": {
    "name": "ipython",
    "version": 3
   },
   "file_extension": ".py",
   "mimetype": "text/x-python",
   "name": "python",
   "nbconvert_exporter": "python",
   "pygments_lexer": "ipython3",
   "version": "3.12.7"
  }
 },
 "nbformat": 4,
 "nbformat_minor": 5
}
